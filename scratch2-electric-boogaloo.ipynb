{
 "cells": [
  {
   "cell_type": "code",
   "execution_count": 9,
   "metadata": {},
   "outputs": [],
   "source": [
    "from rotorParams import *\n",
    "import numpy as np"
   ]
  },
  {
   "cell_type": "code",
   "execution_count": 11,
   "metadata": {},
   "outputs": [
    {
     "ename": "LinAlgError",
     "evalue": "Singular matrix",
     "output_type": "error",
     "traceback": [
      "\u001b[1;31m---------------------------------------------------------------------------\u001b[0m",
      "\u001b[1;31mLinAlgError\u001b[0m                               Traceback (most recent call last)",
      "\u001b[1;32mc:\\Users\\Nate Steffen\\OneDrive - University of Cincinnati\\Semester 7\\Fundamentals of Control Theory\\Controls-Project\\scratch2-electric-boogaloo.ipynb Cell 2\u001b[0m in \u001b[0;36m<cell line: 15>\u001b[1;34m()\u001b[0m\n\u001b[0;32m      <a href='vscode-notebook-cell:/c%3A/Users/Nate%20Steffen/OneDrive%20-%20University%20of%20Cincinnati/Semester%207/Fundamentals%20of%20Control%20Theory/Controls-Project/scratch2-electric-boogaloo.ipynb#W1sZmlsZQ%3D%3D?line=1'>2</a>\u001b[0m tmp \u001b[39m=\u001b[39m np\u001b[39m.\u001b[39marray([\n\u001b[0;32m      <a href='vscode-notebook-cell:/c%3A/Users/Nate%20Steffen/OneDrive%20-%20University%20of%20Cincinnati/Semester%207/Fundamentals%20of%20Control%20Theory/Controls-Project/scratch2-electric-boogaloo.ipynb#W1sZmlsZQ%3D%3D?line=2'>3</a>\u001b[0m     [\u001b[39m1\u001b[39m,\u001b[39m1\u001b[39m,\u001b[39m1\u001b[39m,\u001b[39m1\u001b[39m],\n\u001b[0;32m      <a href='vscode-notebook-cell:/c%3A/Users/Nate%20Steffen/OneDrive%20-%20University%20of%20Cincinnati/Semester%207/Fundamentals%20of%20Control%20Theory/Controls-Project/scratch2-electric-boogaloo.ipynb#W1sZmlsZQ%3D%3D?line=3'>4</a>\u001b[0m     [\u001b[39m0\u001b[39m,\u001b[39m-\u001b[39m\u001b[39m1\u001b[39m,\u001b[39m0\u001b[39m,\u001b[39m1\u001b[39m],\n\u001b[0;32m      <a href='vscode-notebook-cell:/c%3A/Users/Nate%20Steffen/OneDrive%20-%20University%20of%20Cincinnati/Semester%207/Fundamentals%20of%20Control%20Theory/Controls-Project/scratch2-electric-boogaloo.ipynb#W1sZmlsZQ%3D%3D?line=4'>5</a>\u001b[0m     [\u001b[39m1\u001b[39m,\u001b[39m0\u001b[39m,\u001b[39m-\u001b[39m\u001b[39m1\u001b[39m,\u001b[39m0\u001b[39m],\n\u001b[0;32m      <a href='vscode-notebook-cell:/c%3A/Users/Nate%20Steffen/OneDrive%20-%20University%20of%20Cincinnati/Semester%207/Fundamentals%20of%20Control%20Theory/Controls-Project/scratch2-electric-boogaloo.ipynb#W1sZmlsZQ%3D%3D?line=5'>6</a>\u001b[0m     [\u001b[39m1\u001b[39m,\u001b[39m1\u001b[39m,\u001b[39m-\u001b[39m\u001b[39m1\u001b[39m,\u001b[39m-\u001b[39m\u001b[39m1\u001b[39m]\n\u001b[0;32m      <a href='vscode-notebook-cell:/c%3A/Users/Nate%20Steffen/OneDrive%20-%20University%20of%20Cincinnati/Semester%207/Fundamentals%20of%20Control%20Theory/Controls-Project/scratch2-electric-boogaloo.ipynb#W1sZmlsZQ%3D%3D?line=6'>7</a>\u001b[0m ])\n\u001b[0;32m      <a href='vscode-notebook-cell:/c%3A/Users/Nate%20Steffen/OneDrive%20-%20University%20of%20Cincinnati/Semester%207/Fundamentals%20of%20Control%20Theory/Controls-Project/scratch2-electric-boogaloo.ipynb#W1sZmlsZQ%3D%3D?line=7'>8</a>\u001b[0m C \u001b[39m=\u001b[39m np\u001b[39m.\u001b[39marray([\n\u001b[0;32m      <a href='vscode-notebook-cell:/c%3A/Users/Nate%20Steffen/OneDrive%20-%20University%20of%20Cincinnati/Semester%207/Fundamentals%20of%20Control%20Theory/Controls-Project/scratch2-electric-boogaloo.ipynb#W1sZmlsZQ%3D%3D?line=8'>9</a>\u001b[0m     [M\u001b[39m*\u001b[39mg],\n\u001b[0;32m     <a href='vscode-notebook-cell:/c%3A/Users/Nate%20Steffen/OneDrive%20-%20University%20of%20Cincinnati/Semester%207/Fundamentals%20of%20Control%20Theory/Controls-Project/scratch2-electric-boogaloo.ipynb#W1sZmlsZQ%3D%3D?line=9'>10</a>\u001b[0m     [\u001b[39m0\u001b[39m],\n\u001b[0;32m     <a href='vscode-notebook-cell:/c%3A/Users/Nate%20Steffen/OneDrive%20-%20University%20of%20Cincinnati/Semester%207/Fundamentals%20of%20Control%20Theory/Controls-Project/scratch2-electric-boogaloo.ipynb#W1sZmlsZQ%3D%3D?line=10'>11</a>\u001b[0m     [\u001b[39m0\u001b[39m],\n\u001b[0;32m     <a href='vscode-notebook-cell:/c%3A/Users/Nate%20Steffen/OneDrive%20-%20University%20of%20Cincinnati/Semester%207/Fundamentals%20of%20Control%20Theory/Controls-Project/scratch2-electric-boogaloo.ipynb#W1sZmlsZQ%3D%3D?line=11'>12</a>\u001b[0m     [\u001b[39m0\u001b[39m]\n\u001b[0;32m     <a href='vscode-notebook-cell:/c%3A/Users/Nate%20Steffen/OneDrive%20-%20University%20of%20Cincinnati/Semester%207/Fundamentals%20of%20Control%20Theory/Controls-Project/scratch2-electric-boogaloo.ipynb#W1sZmlsZQ%3D%3D?line=12'>13</a>\u001b[0m ])\n\u001b[1;32m---> <a href='vscode-notebook-cell:/c%3A/Users/Nate%20Steffen/OneDrive%20-%20University%20of%20Cincinnati/Semester%207/Fundamentals%20of%20Control%20Theory/Controls-Project/scratch2-electric-boogaloo.ipynb#W1sZmlsZQ%3D%3D?line=14'>15</a>\u001b[0m \u001b[39mprint\u001b[39m(np\u001b[39m.\u001b[39;49mlinalg\u001b[39m.\u001b[39;49minv(tmp))\n",
      "File \u001b[1;32m<__array_function__ internals>:180\u001b[0m, in \u001b[0;36minv\u001b[1;34m(*args, **kwargs)\u001b[0m\n",
      "File \u001b[1;32mc:\\Users\\Nate Steffen\\AppData\\Local\\Programs\\Python\\Python310\\lib\\site-packages\\numpy\\linalg\\linalg.py:545\u001b[0m, in \u001b[0;36minv\u001b[1;34m(a)\u001b[0m\n\u001b[0;32m    543\u001b[0m signature \u001b[39m=\u001b[39m \u001b[39m'\u001b[39m\u001b[39mD->D\u001b[39m\u001b[39m'\u001b[39m \u001b[39mif\u001b[39;00m isComplexType(t) \u001b[39melse\u001b[39;00m \u001b[39m'\u001b[39m\u001b[39md->d\u001b[39m\u001b[39m'\u001b[39m\n\u001b[0;32m    544\u001b[0m extobj \u001b[39m=\u001b[39m get_linalg_error_extobj(_raise_linalgerror_singular)\n\u001b[1;32m--> 545\u001b[0m ainv \u001b[39m=\u001b[39m _umath_linalg\u001b[39m.\u001b[39;49minv(a, signature\u001b[39m=\u001b[39;49msignature, extobj\u001b[39m=\u001b[39;49mextobj)\n\u001b[0;32m    546\u001b[0m \u001b[39mreturn\u001b[39;00m wrap(ainv\u001b[39m.\u001b[39mastype(result_t, copy\u001b[39m=\u001b[39m\u001b[39mFalse\u001b[39;00m))\n",
      "File \u001b[1;32mc:\\Users\\Nate Steffen\\AppData\\Local\\Programs\\Python\\Python310\\lib\\site-packages\\numpy\\linalg\\linalg.py:88\u001b[0m, in \u001b[0;36m_raise_linalgerror_singular\u001b[1;34m(err, flag)\u001b[0m\n\u001b[0;32m     87\u001b[0m \u001b[39mdef\u001b[39;00m \u001b[39m_raise_linalgerror_singular\u001b[39m(err, flag):\n\u001b[1;32m---> 88\u001b[0m     \u001b[39mraise\u001b[39;00m LinAlgError(\u001b[39m\"\u001b[39m\u001b[39mSingular matrix\u001b[39m\u001b[39m\"\u001b[39m)\n",
      "\u001b[1;31mLinAlgError\u001b[0m: Singular matrix"
     ]
    }
   ],
   "source": [
    "M = mc + 4*mf\n",
    "tmp = np.array([\n",
    "    [1,1,1,1],\n",
    "    [0,-1,0,1],\n",
    "    [1,0,-1,0],\n",
    "    [1,1,-1,-1]\n",
    "])\n",
    "C = np.array([\n",
    "    [M*g],\n",
    "    [0],\n",
    "    [0],\n",
    "    [0]\n",
    "])\n",
    "\n",
    "print(np.linalg.inv(tmp))"
   ]
  }
 ],
 "metadata": {
  "kernelspec": {
   "display_name": "Python 3.10.4 64-bit",
   "language": "python",
   "name": "python3"
  },
  "language_info": {
   "codemirror_mode": {
    "name": "ipython",
    "version": 3
   },
   "file_extension": ".py",
   "mimetype": "text/x-python",
   "name": "python",
   "nbconvert_exporter": "python",
   "pygments_lexer": "ipython3",
   "version": "3.10.4"
  },
  "orig_nbformat": 4,
  "vscode": {
   "interpreter": {
    "hash": "66de6bb996f29723044b4d853e2b008f46c950149b9ce752cac89b47c1a47b53"
   }
  }
 },
 "nbformat": 4,
 "nbformat_minor": 2
}
